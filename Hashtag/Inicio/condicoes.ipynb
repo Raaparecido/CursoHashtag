{
 "cells": [
  {
   "cell_type": "markdown",
   "metadata": {},
   "source": [
    "# METAS DA EMPRESA"
   ]
  },
  {
   "cell_type": "code",
   "execution_count": null,
   "metadata": {},
   "outputs": [],
   "source": [
    "meta = 50000\n",
    "qtde_vendida = 65300\n",
    "\n",
    "if qtde_vendida > meta:\n",
    "    print(f'Batemos a meta de vendas de Iphone, vendemos {qtde_vendida} unidades')\n",
    "else:\n",
    "    print(f'Nao batemos a meta de vendas de Iphone, vendemos {qtde_vendida} unidades')"
   ]
  },
  {
   "cell_type": "markdown",
   "metadata": {},
   "source": [
    "## EXEMPLO"
   ]
  },
  {
   "cell_type": "code",
   "execution_count": 5,
   "metadata": {},
   "outputs": [
    {
     "name": "stdout",
     "output_type": "stream",
     "text": [
      "Taxa = 0.04\n"
     ]
    }
   ],
   "source": [
    "meta = 0.05\n",
    "taxa = 0\n",
    "rendimento = 0.25\n",
    "\n",
    "if rendimento > meta:\n",
    "    if rendimento > 0.20:\n",
    "        taxa = 0.04\n",
    "    else:\n",
    "        taxa = 0.02\n",
    "else:\n",
    "    taxa = 0\n",
    "print(f'Taxa = {taxa}')\n",
    "\n"
   ]
  },
  {
   "cell_type": "markdown",
   "metadata": {},
   "source": [
    "## ELIF"
   ]
  },
  {
   "cell_type": "code",
   "execution_count": null,
   "metadata": {},
   "outputs": [],
   "source": [
    "meta = 20000\n",
    "vendas = 15000\n",
    "\n",
    "if vendas > meta:\n",
    "    print(f'Não ganhou bonus')\n",
    "elif vendas > (meta * 2):\n",
    "    bonus = 0.07 * vendas\n",
    "    print(f'Ganhou {bonus} de bonus')\n",
    "else:\n",
    "    bonus = 0.03 * vendas\n",
    "    print(f'Ganhou {bonus} de bonus')"
   ]
  },
  {
   "cell_type": "markdown",
   "metadata": {},
   "source": [
    "### AND OU OR"
   ]
  },
  {
   "cell_type": "code",
   "execution_count": null,
   "metadata": {},
   "outputs": [],
   "source": [
    "meta_funcionario = 10000\n",
    "meta_loja = 250000\n",
    "vendas_funcionario = 5000\n",
    "vendas_loja = 200000\n",
    "\n",
    "if vendas_funcionario > meta_funcionario  and vendas_loja > meta_loja:\n",
    "    bonus = 0.03 * vendas_funcionario\n",
    "    print(f'Bonus do funcionario foi de {bonus}')\n",
    "else:\n",
    "    print(f'Funcionario nao ganhou bonus')"
   ]
  },
  {
   "cell_type": "code",
   "execution_count": null,
   "metadata": {},
   "outputs": [],
   "source": [
    "nota_funcionario = 9\n",
    "meta_nota = 9\n",
    "\n",
    "if nota_funcionario >= meta_nota or (vendas_funcionario > meta_funcionario  and vendas_loja > meta_loja):\n",
    "    bonus = 0.03 * vendas_funcionario\n",
    "    print(f'Bonus do funcionario foi de {bonus}')\n",
    "else:\n",
    "    print(f'Funcionario nao ganhou bonus')"
   ]
  },
  {
   "cell_type": "markdown",
   "metadata": {},
   "source": [
    "## Verificação de Informação\n"
   ]
  },
  {
   "cell_type": "code",
   "execution_count": 2,
   "metadata": {},
   "outputs": [
    {
     "name": "stdout",
     "output_type": "stream",
     "text": [
      "Preencha o faturemento e o lucro corretamente\n"
     ]
    }
   ],
   "source": [
    "faturamento = input('Qual foi o faturamento da loja: ')\n",
    "custo = input('Qual foi o custo da loja: ')\n",
    "\n",
    "if faturamento and custo:\n",
    "    lucro = int(faturamento) - int(custo)\n",
    "    print(f'O lucro  da loja foi {lucro}')\n",
    "else:\n",
    "    print(f'Preencha o faturemento e o lucro corretamente')"
   ]
  }
 ],
 "metadata": {
  "kernelspec": {
   "display_name": "Python 3",
   "language": "python",
   "name": "python3"
  },
  "language_info": {
   "codemirror_mode": {
    "name": "ipython",
    "version": 3
   },
   "file_extension": ".py",
   "mimetype": "text/x-python",
   "name": "python",
   "nbconvert_exporter": "python",
   "pygments_lexer": "ipython3",
   "version": "3.9.13"
  }
 },
 "nbformat": 4,
 "nbformat_minor": 2
}
