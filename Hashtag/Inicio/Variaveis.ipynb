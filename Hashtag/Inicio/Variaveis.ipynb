{
 "cells": [
  {
   "cell_type": "markdown",
   "metadata": {},
   "source": [
    "Variaveis\n",
    "\n",
    "Int \n",
    "String\n",
    "Float\n",
    "Bool ou Boolean"
   ]
  },
  {
   "cell_type": "code",
   "execution_count": null,
   "metadata": {},
   "outputs": [],
   "source": [
    "#Formando  variaiveis\n",
    "faturamento = 1000\n",
    "custo = 500\n",
    "lucro = faturamento - custo\n",
    "\n",
    "print('O faturamento da loja foi ' + str(faturamento))\n",
    "print('Custo da loja foi' + str(custo))\n",
    "print('Assim, o lucro da loja foi de ' + str(lucro) + 'Reais')"
   ]
  },
  {
   "cell_type": "code",
   "execution_count": null,
   "metadata": {},
   "outputs": [],
   "source": [
    "#Metodo format\n",
    "#f-string\n",
    "faturamento = 1000\n",
    "custo = 500\n",
    "lucro = faturamento - custo\n",
    "\n",
    "print(f'O faturamento da loja foi {faturamento}. Ocusto da loja foi {custo}. Assim, o lucro foi {lucro}.')"
   ]
  },
  {
   "cell_type": "code",
   "execution_count": null,
   "metadata": {},
   "outputs": [],
   "source": [
    "#Mudança de tipo de Variavel\n",
    "\n",
    "faturamento = float(input('Insira faturamento'))\n",
    "custo = float(input('Insira custo'))\n",
    "\n",
    "lucro = faturamento - custo\n",
    "\n",
    "print(lucro)"
   ]
  }
 ],
 "metadata": {
  "language_info": {
   "name": "python"
  }
 },
 "nbformat": 4,
 "nbformat_minor": 2
}
