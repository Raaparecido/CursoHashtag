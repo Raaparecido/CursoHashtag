{
 "cells": [
  {
   "cell_type": "markdown",
   "metadata": {},
   "source": [
    "## Exercício\n",
    "\n",
    "Você é um gerente de vendas e tem os dados de vendas de três produtos diferentes (Produto A, Produto B, Produto C) para os últimos 5 dias em um array 2D NumPy. Cada linha do array representa um produto e cada coluna representa um dia. Seu trabalho é calcular as vendas totais para cada produto e para cada dia.\n",
    "\n",
    "Use o seguinte array para sua análise:\n",
    "\n",
    "```python\n",
    "vendas = np.array([[50, 60, 70, 65, 80],\n",
    "                   [85, 90, 78, 92, 88],\n",
    "                   [72, 75, 68, 77, 76]])\n",
    "```\n",
    "\n",
    "**Solução:**\n"
   ]
  },
  {
   "cell_type": "code",
   "execution_count": 6,
   "metadata": {
    "ExecuteTime": {
     "end_time": "2023-07-03T12:12:12.700234800Z",
     "start_time": "2023-07-03T12:12:12.677347900Z"
    },
    "collapsed": false,
    "jupyter": {
     "outputs_hidden": false
    }
   },
   "outputs": [
    {
     "name": "stdout",
     "output_type": "stream",
     "text": [
      "[325 433 368]\n",
      "Vendas totais para o produto A 325\n",
      "Vendas totais para o produto B 433\n",
      "Vendas totais para o produto C 368\n",
      "[207 225 216 234 244]\n",
      "Vendas totais dia 1: 207\n",
      "Vendas totais dia 2: 225\n",
      "Vendas totais dia 3: 216\n",
      "Vendas totais dia 4: 234\n",
      "Vendas totais dia 5: 244\n"
     ]
    }
   ],
   "source": [
    "import numpy as np\n",
    "\n",
    "vendas = np.array([[50, 60, 70, 65, 80],\n",
    "                   [85, 90, 78, 92, 88],\n",
    "                   [72, 75, 68, 77, 76]])\n",
    "\n",
    "#Vendas Totais dos produtos\n",
    "vendas_totais_produtos = vendas.sum(axis=1)\n",
    "print(vendas_totais_produtos)\n",
    "print(f'Vendas totais para o produto A {vendas_totais_produtos[0]}')\n",
    "print(f'Vendas totais para o produto B {vendas_totais_produtos[1]}')\n",
    "print(f'Vendas totais para o produto C {vendas_totais_produtos[2]}')\n",
    "\n",
    "\n",
    "#Vendas Totais do dia\n",
    "vendas_totais_dias = vendas.sum(axis=0)\n",
    "print(vendas_totais_dias)\n",
    "for i in range(5):\n",
    " print(f'Vendas totais dia {i + 1}: {vendas_totais_dias[i]}')\n",
    "\n",
    "\n"
   ]
  },
  {
   "cell_type": "code",
   "execution_count": null,
   "metadata": {},
   "outputs": [],
   "source": []
  }
 ],
 "metadata": {
  "kernelspec": {
   "display_name": "Python 3 (ipykernel)",
   "language": "python",
   "name": "python3"
  },
  "language_info": {
   "codemirror_mode": {
    "name": "ipython",
    "version": 3
   },
   "file_extension": ".py",
   "mimetype": "text/x-python",
   "name": "python",
   "nbconvert_exporter": "python",
   "pygments_lexer": "ipython3",
   "version": "3.9.13"
  }
 },
 "nbformat": 4,
 "nbformat_minor": 4
}
