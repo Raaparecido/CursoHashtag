{
 "cells": [
  {
   "cell_type": "markdown",
   "metadata": {},
   "source": [
    "## Calculando a idade\n",
    "\n",
    "Um usuário fornece sua data de nascimento no formato \"dd/mm/aaaa\". Crie um script Python que calcula a idade do usuário.\n"
   ]
  },
  {
   "cell_type": "code",
   "execution_count": 4,
   "metadata": {},
   "outputs": [
    {
     "name": "stdout",
     "output_type": "stream",
     "text": [
      "1991-07-03 00:00:00\n",
      "32\n"
     ]
    }
   ],
   "source": [
    "from datetime import datetime\n",
    "\n",
    "data_nascimento = input('Informe sua data de nascimento (dd/mm/aaaa): ')\n",
    "\n",
    "data_nascimento = datetime.strptime(data_nascimento, '%d/%m/%Y')\n",
    "\n",
    "print(data_nascimento)\n",
    "\n",
    "data_atual = datetime.now()\n",
    "\n",
    "idade = data_atual.year - data_nascimento.year\n",
    "if data_atual.month >= data_nascimento.month and data_atual.day >= data_nascimento.day:\n",
    "    print(idade)\n",
    "else:\n",
    "    idade = idade - 1\n",
    "    print(idade)"
   ]
  }
 ],
 "metadata": {
  "kernelspec": {
   "display_name": "Python 3 (ipykernel)",
   "language": "python",
   "name": "python3"
  },
  "language_info": {
   "codemirror_mode": {
    "name": "ipython",
    "version": 3
   },
   "file_extension": ".py",
   "mimetype": "text/x-python",
   "name": "python",
   "nbconvert_exporter": "python",
   "pygments_lexer": "ipython3",
   "version": "3.9.13"
  }
 },
 "nbformat": 4,
 "nbformat_minor": 4
}
