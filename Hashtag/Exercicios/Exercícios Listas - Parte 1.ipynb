{
 "cells": [
  {
   "cell_type": "markdown",
   "metadata": {},
   "source": [
    "# Exercícios\n",
    "\n",
    "## 1. Faturamento do Melhor e do Pior Mês do Ano\n",
    "\n",
    "Qual foi o valor de vendas do melhor mês do Ano?\n",
    "E valor do pior mês do ano?"
   ]
  },
  {
   "cell_type": "code",
   "execution_count": 14,
   "metadata": {},
   "outputs": [
    {
     "name": "stdout",
     "output_type": "stream",
     "text": [
      "[25000, 29000, 22200, 17750, 15870, 19900, 19850, 20120, 17540, 15555, 49051, 9650]\n",
      "Mes de maior venda foi nov\n",
      "Mes de menor venda foi dez\n"
     ]
    }
   ],
   "source": [
    "meses = ['jan', 'fev', 'mar', 'abr', 'mai', 'jun', 'jul', 'ago', 'set', 'out', 'nov', 'dez']\n",
    "vendas_1sem = [25000, 29000, 22200, 17750, 15870, 19900]\n",
    "vendas_2sem = [19850, 20120, 17540, 15555, 49051, 9650]\n",
    "\n",
    "vendas = vendas_1sem + vendas_2sem\n",
    "print(vendas)\n",
    "\n",
    "vendas_maior = max(vendas)\n",
    "vendas_menor = min(vendas)\n",
    "\n",
    "i2 = vendas.index(vendas_menor)\n",
    "i = vendas.index(vendas_maior)\n",
    "print(f'Mes de maior venda foi {meses[i]}')\n",
    "print(f'Mes de menor venda foi {meses[i2]}')\n"
   ]
  },
  {
   "cell_type": "markdown",
   "metadata": {},
   "source": [
    "## 2. Continuação\n",
    "\n",
    "Agora relacione as duas listas para printar 'O melhor mês do ano foi {} com {} vendas' e o mesmo para o pior mês do ano.\n",
    "\n",
    "Calcule também o faturamento total do Ano e quanto que o melhor mês representou do faturamento total.\n",
    "\n",
    "Obs: Para o faturamento total, pode usar a função sum(lista) que soma todos os itens de uma lista"
   ]
  },
  {
   "cell_type": "code",
   "execution_count": 13,
   "metadata": {},
   "outputs": [
    {
     "name": "stdout",
     "output_type": "stream",
     "text": [
      "O melhor mes do ano foi nov com 49051 vendas\n",
      "O pior mes do ano foi dez com 9650 vendas\n",
      "nov representa 18.76% do faturamento total\n"
     ]
    }
   ],
   "source": [
    "print(f'O melhor mes do ano foi {meses[i]} com {vendas_maior} vendas')\n",
    "print(f'O pior mes do ano foi {meses[i2]} com {vendas_menor} vendas')\n",
    "faturamento = sum(vendas)\n",
    "nov = (vendas_maior * 100) / faturamento\n",
    "print(f'{meses[i]} representa {nov:.2f}% do faturamento total')"
   ]
  },
  {
   "cell_type": "markdown",
   "metadata": {},
   "source": [
    "## 3. Crie uma lista com o top 3 valores de vendas do ano (sem fazer \"no olho\")\n",
    "\n",
    "Dica: o método remove retira um item da lista."
   ]
  },
  {
   "cell_type": "code",
   "execution_count": 15,
   "metadata": {},
   "outputs": [
    {
     "name": "stdout",
     "output_type": "stream",
     "text": [
      "[49051, 29000, 25000]\n"
     ]
    }
   ],
   "source": [
    "top3 = []\n",
    "top3.append(vendas_maior)\n",
    "vendas.remove(vendas_maior)\n",
    "vendas_maior = max(vendas)\n",
    "top3.append(vendas_maior)\n",
    "vendas.remove(vendas_maior)\n",
    "vendas_maior = max(vendas)\n",
    "top3.append(vendas_maior)\n",
    "\n",
    "print(top3)"
   ]
  }
 ],
 "metadata": {
  "kernelspec": {
   "display_name": "Python 3",
   "language": "python",
   "name": "python3"
  },
  "language_info": {
   "codemirror_mode": {
    "name": "ipython",
    "version": 3
   },
   "file_extension": ".py",
   "mimetype": "text/x-python",
   "name": "python",
   "nbconvert_exporter": "python",
   "pygments_lexer": "ipython3",
   "version": "3.12.2"
  }
 },
 "nbformat": 4,
 "nbformat_minor": 4
}
