{
 "cells": [
  {
   "cell_type": "markdown",
   "metadata": {},
   "source": [
    "### Listas\n"
   ]
  },
  {
   "cell_type": "code",
   "execution_count": 1,
   "metadata": {},
   "outputs": [
    {
     "name": "stdout",
     "output_type": "stream",
     "text": [
      "Vendas do Produto celular foram de 1500 unidades\n"
     ]
    }
   ],
   "source": [
    "produtos = ['tv', 'celular', 'mouse', 'teclado', 'tablet']\n",
    "\n",
    "vendas = [1000, 1500,350,270, 900]\n",
    "\n",
    "print(f'Vendas do Produto {produtos[1]} foram de {vendas[1]} unidades')\n",
    "\n"
   ]
  },
  {
   "cell_type": "code",
   "execution_count": 2,
   "metadata": {},
   "outputs": [
    {
     "name": "stdout",
     "output_type": "stream",
     "text": [
      "geladeira\n",
      "90\n"
     ]
    }
   ],
   "source": [
    "produtos = ['tv', 'celular', 'tablet', 'mouse', 'teclado', 'geladeira', 'forno']\n",
    "estoque = [100, 150, 100, 120, 70, 90, 80, 15]\n",
    "\n",
    "i = produtos.index('geladeira')\n",
    "print(produtos[i])\n",
    "print(estoque[i])"
   ]
  },
  {
   "cell_type": "code",
   "execution_count": 5,
   "metadata": {},
   "outputs": [
    {
     "name": "stdout",
     "output_type": "stream",
     "text": [
      "tvvv nao existe no estoque\n"
     ]
    }
   ],
   "source": [
    "produto = input('insira o nome do produto: ')\n",
    "if produto in produtos:\n",
    "    i = produtos.index(produto) \n",
    "    print(produtos[i])\n",
    "    print(estoque[i])\n",
    "else:\n",
    "    print(f'{produto} nao existe no estoque')"
   ]
  },
  {
   "cell_type": "markdown",
   "metadata": {},
   "source": [
    "### ADD e Remover itens das Listas \n",
    "\n",
    "### Remover\n",
    "### item_removido = lista.pop(indice)\n",
    "### lista.remove(item)\n"
   ]
  },
  {
   "cell_type": "code",
   "execution_count": null,
   "metadata": {},
   "outputs": [],
   "source": [
    "produtos = ['apple tv', 'mac', 'iphone x', 'IPad', 'apple watch', 'mac book', 'airpods']\n",
    "\n",
    "#adicionar o iphone 11\n",
    "produtos.append('iphone 11')\n",
    "\n",
    "#remover o iphone x\n",
    "produtos.remove('iphone x')\n",
    "\n",
    "item_removido = produtos.pop(2)#da o item removido como resposta \n",
    "print(f'Removemos o item {item_removido}')\n",
    "\n",
    "#tratando erro \n",
    "produto_remover = 'iphonex'\n",
    "if produto_remover in produtos:\n",
    "    produtos.remove('iphonex')\n",
    "else:\n",
    "    print(f'{produto_remover} não existe este produto na lista')\n",
    "\n",
    "#segunda forma de tratar erro\n",
    "try:\n",
    "    produtos.remove('iphonex')\n",
    "    print(produtos)\n",
    "except:\n",
    "    pass\n",
    "\n"
   ]
  },
  {
   "cell_type": "markdown",
   "metadata": {},
   "source": [
    "### Funçoes Basicas de Lista\n",
    "\n",
    "### Tamanho da lista \n",
    "\n",
    "tamanho = len(lista)"
   ]
  },
  {
   "cell_type": "code",
   "execution_count": 1,
   "metadata": {},
   "outputs": [
    {
     "name": "stdout",
     "output_type": "stream",
     "text": [
      "7\n"
     ]
    }
   ],
   "source": [
    "produtos = produtos = ['apple tv', 'mac', 'iphone x', 'IPad', 'apple watch', 'mac book', 'airpods']\n",
    "\n",
    "tamanho = len(produtos)\n",
    "print(tamanho)"
   ]
  },
  {
   "cell_type": "code",
   "execution_count": 3,
   "metadata": {},
   "outputs": [
    {
     "name": "stdout",
     "output_type": "stream",
     "text": [
      "15000\n",
      "100\n"
     ]
    }
   ],
   "source": [
    "# maior e menor valores \n",
    "\n",
    "vendas = [ 1000, 1500, 15000, 270, 900, 100, 1200]\n",
    "mais_vendido = max(vendas)\n",
    "menos_vendido = min(vendas)\n",
    "\n",
    "print(mais_vendido)\n",
    "print(menos_vendido)\n"
   ]
  },
  {
   "cell_type": "code",
   "execution_count": 4,
   "metadata": {},
   "outputs": [
    {
     "name": "stdout",
     "output_type": "stream",
     "text": [
      "iphone x\n"
     ]
    }
   ],
   "source": [
    "produto_mais_vendido = vendas.index(mais_vendido)\n",
    "produto_menos_vendido = vendas.index(menos_vendido)\n",
    "\n",
    "print(produtos[produto_mais_vendido])"
   ]
  },
  {
   "cell_type": "markdown",
   "metadata": {},
   "source": [
    "### Juntar listas, Ordenar e Cuidados Especiais\n",
    "\n",
    ".lista1.extend(lista2)\n",
    "\n",
    ".lista_nova = lista1 + lista2\n",
    "\n",
    "Obs: o metodo .append não junta lista, mas adiciona um valor no final da lista"
   ]
  },
  {
   "cell_type": "code",
   "execution_count": null,
   "metadata": {},
   "outputs": [],
   "source": [
    "produtos = produtos = ['apple tv', 'mac', 'iphone x', 'IPad', 'apple watch', 'mac book', 'airpods']\n",
    "novos_produtos = ['iphone 12', 'ioculos']\n",
    "\n",
    "vendas = [1000, 1500, 15000, 20000, 270, 900, 100, 1200]\n",
    "vendas_iphonex = [15000]\n",
    "vendas_iphoone11 = [20000]\n",
    "\n",
    "total_iphone = vendas[2] + vendas[3]\n",
    "\n",
    "#.extend\n",
    "produtos.extend(novos_produtos)\n",
    "\n",
    "#2 metodo\n",
    "todos_produtos = produtos + novos_produtos\n",
    "\n",
    "#Ordenar lista 'reverse=True'(Forma invertida)\n",
    "produtos.sort()"
   ]
  },
  {
   "cell_type": "markdown",
   "metadata": {},
   "source": [
    "### Print de Listas\n",
    "\n",
    ".print 'normal'\n",
    "\n",
    ".metodo join -> texto.join(lista)"
   ]
  },
  {
   "cell_type": "code",
   "execution_count": 1,
   "metadata": {},
   "outputs": [
    {
     "name": "stdout",
     "output_type": "stream",
     "text": [
      "apple tv\n",
      "mac\n",
      "iphone x\n",
      "IPad\n",
      "apple watch\n",
      "mac book\n",
      "airpods\n"
     ]
    }
   ],
   "source": [
    "produtos = produtos = ['apple tv', 'mac', 'iphone x', 'IPad', 'apple watch', 'mac book', 'airpods']\n",
    "\n",
    "print('\\n'.join(produtos))\n",
    "\n",
    "#metodo split -> deleta o espaço e a virgula e cria uma lista \n",
    "lista = produtos.split(', ')"
   ]
  }
 ],
 "metadata": {
  "kernelspec": {
   "display_name": "Python 3",
   "language": "python",
   "name": "python3"
  },
  "language_info": {
   "codemirror_mode": {
    "name": "ipython",
    "version": 3
   },
   "file_extension": ".py",
   "mimetype": "text/x-python",
   "name": "python",
   "nbconvert_exporter": "python",
   "pygments_lexer": "ipython3",
   "version": "3.12.2"
  }
 },
 "nbformat": 4,
 "nbformat_minor": 2
}
